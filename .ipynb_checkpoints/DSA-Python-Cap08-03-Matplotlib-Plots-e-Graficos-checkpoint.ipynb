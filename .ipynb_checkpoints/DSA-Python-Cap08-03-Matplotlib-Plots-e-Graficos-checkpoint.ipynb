{
 "cells": [
  {
   "cell_type": "markdown",
   "metadata": {},
   "source": [
    "# <font color='blue'>Data Science Academy - Python Fundamentos - Capítulo 8</font>\n",
    "\n",
    "## Download: http://github.com/dsacademybr"
   ]
  },
  {
   "cell_type": "markdown",
   "metadata": {},
   "source": [
    "## Matplotlib\n",
    "Para atualizar o Matplotlib abra o prompt de comando ou terminal e digite: pip install matplotlib -U"
   ]
  },
  {
   "cell_type": "markdown",
   "metadata": {
    "collapsed": true
   },
   "source": [
    "## Construindo Plots"
   ]
  },
  {
   "cell_type": "code",
   "execution_count": 1,
   "metadata": {},
   "outputs": [],
   "source": [
    "# O matplotlib.pyplot é uma coleção de funções e estilos que fazem com que o Matplotlib funcione como o Matlab.\n",
    "import matplotlib as mpl\n",
    "import matplotlib.pyplot as plt\n",
    "%matplotlib inline"
   ]
  },
  {
   "cell_type": "code",
   "execution_count": null,
   "metadata": {},
   "outputs": [],
   "source": [
    "mpl.__version__"
   ]
  },
  {
   "cell_type": "code",
   "execution_count": null,
   "metadata": {},
   "outputs": [],
   "source": [
    "# O método plot() define os eixos do gráfico\n",
    "plt.plot([1, 3, 5], [2, 5, 7])\n",
    "plt.show()"
   ]
  },
  {
   "cell_type": "code",
   "execution_count": null,
   "metadata": {},
   "outputs": [],
   "source": [
    "x = [1, 4, 5]"
   ]
  },
  {
   "cell_type": "code",
   "execution_count": null,
   "metadata": {},
   "outputs": [],
   "source": [
    "y = [3, 7, 2]"
   ]
  },
  {
   "cell_type": "code",
   "execution_count": null,
   "metadata": {},
   "outputs": [],
   "source": [
    "plt.plot(x, y)\n",
    "plt.xlabel('Variável 1')\n",
    "plt.ylabel('Variável 2')\n",
    "plt.title('Teste Plot')\n",
    "plt.show()"
   ]
  },
  {
   "cell_type": "code",
   "execution_count": null,
   "metadata": {},
   "outputs": [],
   "source": [
    "x2 = [1, 2, 3]\n",
    "y2 = [11, 12, 15]"
   ]
  },
  {
   "cell_type": "code",
   "execution_count": null,
   "metadata": {},
   "outputs": [],
   "source": [
    "plt.plot(x2, y2, label = 'Primeira Linha')\n",
    "plt.legend()\n",
    "plt.show()"
   ]
  },
  {
   "cell_type": "markdown",
   "metadata": {},
   "source": [
    "## Gráficos de Barras"
   ]
  },
  {
   "cell_type": "code",
   "execution_count": null,
   "metadata": {},
   "outputs": [],
   "source": [
    "x = [2,4,6,8,10]\n",
    "y = [6,7,8,2,4]"
   ]
  },
  {
   "cell_type": "code",
   "execution_count": null,
   "metadata": {},
   "outputs": [],
   "source": [
    "plt.bar(x, y, label = 'Barras', color = 'r')\n",
    "plt.legend()\n",
    "plt.show()"
   ]
  },
  {
   "cell_type": "code",
   "execution_count": null,
   "metadata": {},
   "outputs": [],
   "source": [
    "x2 = [1,3,5,7,9]\n",
    "y2 = [7,8,2,4,2]"
   ]
  },
  {
   "cell_type": "code",
   "execution_count": null,
   "metadata": {},
   "outputs": [],
   "source": [
    "plt.bar(x, y, label = 'Barras1', color = 'r')\n",
    "plt.bar(x2, y2, label = 'Barras2', color = 'y')\n",
    "plt.legend()\n",
    "plt.show()"
   ]
  },
  {
   "cell_type": "code",
   "execution_count": null,
   "metadata": {},
   "outputs": [],
   "source": [
    "idades = [22,65,45,55,21,22,34,42,41,4,99,101,120,122,130,111,115,80,75,54,44,64,13,18,48]"
   ]
  },
  {
   "cell_type": "code",
   "execution_count": null,
   "metadata": {},
   "outputs": [],
   "source": [
    "ids = [x for x in range(len(idades))]"
   ]
  },
  {
   "cell_type": "code",
   "execution_count": null,
   "metadata": {},
   "outputs": [],
   "source": [
    "plt.bar(ids, idades)\n",
    "plt.show()"
   ]
  },
  {
   "cell_type": "code",
   "execution_count": null,
   "metadata": {},
   "outputs": [],
   "source": [
    "bins = [0,10,20,30,40,50,60,70,80,90,100,110,120,130]"
   ]
  },
  {
   "cell_type": "code",
   "execution_count": null,
   "metadata": {},
   "outputs": [],
   "source": [
    "plt.hist(idades, bins, histtype = 'bar', rwidth = 0.8)\n",
    "plt.show()"
   ]
  },
  {
   "cell_type": "code",
   "execution_count": null,
   "metadata": {},
   "outputs": [],
   "source": [
    "plt.hist(idades, bins, histtype = 'stepfilled', rwidth = 0.8)\n",
    "plt.show()"
   ]
  },
  {
   "cell_type": "markdown",
   "metadata": {},
   "source": [
    "## Scatterplot"
   ]
  },
  {
   "cell_type": "code",
   "execution_count": null,
   "metadata": {},
   "outputs": [],
   "source": [
    "x = [1,2,3,4,5,6,7,8]\n",
    "y = [5,2,4,5,6,8,4,8]"
   ]
  },
  {
   "cell_type": "code",
   "execution_count": null,
   "metadata": {},
   "outputs": [],
   "source": [
    "plt.scatter(x, y, label = 'Pontos', color = 'r', marker = 'o', s = 100)\n",
    "plt.legend()\n",
    "plt.show()"
   ]
  },
  {
   "cell_type": "markdown",
   "metadata": {},
   "source": [
    "## Stack Plots"
   ]
  },
  {
   "cell_type": "code",
   "execution_count": null,
   "metadata": {},
   "outputs": [],
   "source": [
    "dias = [1,2,3,4,5]\n",
    "dormir = [7,8,6,77,7]\n",
    "comer = [2,3,4,5,3]\n",
    "trabalhar = [7,8,7,2,2]\n",
    "passear = [8,5,7,8,13]"
   ]
  },
  {
   "cell_type": "code",
   "execution_count": null,
   "metadata": {},
   "outputs": [],
   "source": [
    "plt.stackplot(dias, dormir, comer, trabalhar, passear, colors = ['m','c','r','k','b'])\n",
    "plt.show()"
   ]
  },
  {
   "cell_type": "markdown",
   "metadata": {},
   "source": [
    "## Pie Chart"
   ]
  },
  {
   "cell_type": "code",
   "execution_count": null,
   "metadata": {},
   "outputs": [],
   "source": [
    "fatias = [7, 2, 2, 13]\n",
    "atividades = ['dormir','comer','trabalhar','passear']\n",
    "colunas = ['c','m','r','k']"
   ]
  },
  {
   "cell_type": "code",
   "execution_count": null,
   "metadata": {},
   "outputs": [],
   "source": [
    "plt.pie(fatias, labels = atividades, colors = colunas, startangle = 90, shadow = True, explode = (0,0.1,0,0))\n",
    "plt.show()"
   ]
  },
  {
   "cell_type": "markdown",
   "metadata": {
    "collapsed": true
   },
   "source": [
    "## Pylab"
   ]
  },
  {
   "cell_type": "code",
   "execution_count": null,
   "metadata": {},
   "outputs": [],
   "source": [
    "# Visualizando os gráfico dentro do Jupyter Notebook\n",
    "# O Pylab combina funcionalidades do pyplot com funcionalidades do Numpy\n",
    "from pylab import *\n",
    "%matplotlib inline"
   ]
  },
  {
   "cell_type": "code",
   "execution_count": null,
   "metadata": {},
   "outputs": [],
   "source": [
    "x = linspace(0, 5, 10)\n",
    "y = x ** 2\n",
    "\n",
    "fig = plt.figure()\n",
    "\n",
    "# Definindo os eixos\n",
    "axes = fig.add_axes([0.1, 0.1, 0.8, 0.8])\n",
    "\n",
    "axes.plot(x, y, 'r')\n",
    "\n",
    "axes.set_xlabel('x')\n",
    "axes.set_ylabel('y')\n",
    "axes.set_title('Gráfico de Linha');"
   ]
  },
  {
   "cell_type": "code",
   "execution_count": null,
   "metadata": {},
   "outputs": [],
   "source": [
    "# Gráficos com 2 figuras\n",
    "x = linspace(0, 5, 10)\n",
    "y = x ** 2\n",
    "\n",
    "fig = plt.figure()\n",
    "\n",
    "axes1 = fig.add_axes([0.1, 0.1, 0.8, 0.8]) # eixos da figura principal\n",
    "axes2 = fig.add_axes([0.2, 0.5, 0.4, 0.3]) # eixos da figura secundária\n",
    "\n",
    "# Figura principal\n",
    "axes1.plot(x, y, 'r')\n",
    "axes1.set_xlabel('x')\n",
    "axes1.set_ylabel('y')\n",
    "axes1.set_title('Figura Principal')\n",
    "\n",
    "# Figura secundária\n",
    "axes2.plot(y, x, 'g')\n",
    "axes2.set_xlabel('y')\n",
    "axes2.set_ylabel('x')\n",
    "axes2.set_title('Figura Secundária');"
   ]
  },
  {
   "cell_type": "code",
   "execution_count": null,
   "metadata": {},
   "outputs": [],
   "source": [
    "# Gráficos em Paralelo\n",
    "fig, axes = plt.subplots(nrows = 1, ncols = 2)\n",
    "\n",
    "for ax in axes:\n",
    "    ax.plot(x, y, 'r')\n",
    "    ax.set_xlabel('x')\n",
    "    ax.set_ylabel('y')\n",
    "    ax.set_title('Título')\n",
    "    \n",
    "fig.tight_layout()"
   ]
  },
  {
   "cell_type": "markdown",
   "metadata": {},
   "source": [
    "## Gráficos a partir do NumPy"
   ]
  },
  {
   "cell_type": "code",
   "execution_count": null,
   "metadata": {},
   "outputs": [],
   "source": [
    "import matplotlib.pyplot as plt\n",
    "import numpy as np\n",
    "%matplotlib inline"
   ]
  },
  {
   "cell_type": "code",
   "execution_count": null,
   "metadata": {},
   "outputs": [],
   "source": [
    "plt.scatter(np.arange(50), np.random.randn(50))\n",
    "plt.show()"
   ]
  },
  {
   "cell_type": "code",
   "execution_count": null,
   "metadata": {},
   "outputs": [],
   "source": [
    "# Plot e Scatter\n",
    "fig = plt.figure()\n",
    "\n",
    "ax1 = fig.add_subplot(1,2,1)\n",
    "ax1.plot(np.random.randn(50), color='red')\n",
    "\n",
    "ax2 = fig.add_subplot(1,2,2)\n",
    "ax2.scatter(np.arange(50), np.random.randn(50))\n",
    "plt.show()"
   ]
  },
  {
   "cell_type": "code",
   "execution_count": null,
   "metadata": {},
   "outputs": [],
   "source": [
    "# Plots diversos\n",
    "_, ax = plt.subplots(2,3)\n",
    "\n",
    "ax[0,1].plot(np.random.randn(50), color = 'green', linestyle = '-')\n",
    "ax[1,0].hist(np.random.randn(50))\n",
    "ax[1,2].scatter(np.arange(50), np.random.randn(50), color = 'red')\n",
    "plt.show()"
   ]
  },
  {
   "cell_type": "code",
   "execution_count": null,
   "metadata": {},
   "outputs": [],
   "source": [
    "# Controle dos eixos\n",
    "fig, axes = plt.subplots(1, 3, figsize = (12, 4))\n",
    "\n",
    "axes[0].plot(x, x**2, x, x**3)\n",
    "axes[0].set_title(\"Eixos com range padrão\")\n",
    "\n",
    "axes[1].plot(x, x**2, x, x**3)\n",
    "axes[1].axis('tight')\n",
    "axes[1].set_title(\"Eixos menores\")\n",
    "\n",
    "axes[2].plot(x, x**2, x, x**3)\n",
    "axes[2].set_ylim([0, 60])\n",
    "axes[2].set_xlim([2, 5])\n",
    "axes[2].set_title(\"Eixos customizados\");"
   ]
  },
  {
   "cell_type": "code",
   "execution_count": null,
   "metadata": {},
   "outputs": [],
   "source": [
    "# Escala\n",
    "fig, axes = plt.subplots(1, 2, figsize=(10,4))\n",
    "      \n",
    "axes[0].plot(x, x**2, x, exp(x))\n",
    "axes[0].set_title(\"Escala Padrão\")\n",
    "\n",
    "axes[1].plot(x, x**2, x, exp(x))\n",
    "axes[1].set_yscale(\"log\")\n",
    "axes[1].set_title(\"Escala Logaritmica (y)\");"
   ]
  },
  {
   "cell_type": "code",
   "execution_count": null,
   "metadata": {},
   "outputs": [],
   "source": [
    "# Grid\n",
    "fig, axes = plt.subplots(1, 2, figsize=(10,3))\n",
    "\n",
    "# Grid padrão\n",
    "axes[0].plot(x, x**2, x, x**3, lw = 2)\n",
    "axes[0].grid(True)\n",
    "\n",
    "# Grid customizado\n",
    "axes[1].plot(x, x**2, x, x**3, lw = 2)\n",
    "axes[1].grid(color = 'b', alpha = 0.5, linestyle = 'dashed', linewidth = 0.5)"
   ]
  },
  {
   "cell_type": "code",
   "execution_count": null,
   "metadata": {},
   "outputs": [],
   "source": [
    "# Gráfico de Linhas Gêmeas\n",
    "fig, ax1 = plt.subplots()\n",
    "\n",
    "ax1.plot(x, x**2, lw=2, color=\"blue\")\n",
    "ax1.set_ylabel(\"Area\", fontsize=18, color=\"blue\")\n",
    "for label in ax1.get_yticklabels():\n",
    "    label.set_color(\"blue\")\n",
    "    \n",
    "ax2 = ax1.twinx()\n",
    "ax2.plot(x, x**3, lw=2, color=\"red\")\n",
    "ax2.set_ylabel(\"Volume\", fontsize=18, color=\"red\")\n",
    "for label in ax2.get_yticklabels():\n",
    "    label.set_color(\"red\")"
   ]
  },
  {
   "cell_type": "code",
   "execution_count": null,
   "metadata": {},
   "outputs": [],
   "source": [
    "# Diferentes estilos de Plots\n",
    "xx = np.linspace(-0.75, 1., 100)\n",
    "n = np.array([0,1,2,3,4,5])\n",
    "\n",
    "fig, axes = plt.subplots(1, 4, figsize=(12,3))\n",
    "\n",
    "axes[0].scatter(xx, xx + 0.25*randn(len(xx)))\n",
    "axes[0].set_title(\"scatter\")\n",
    "\n",
    "axes[1].step(n, n**2, lw=2)\n",
    "axes[1].set_title(\"step\")\n",
    "\n",
    "axes[2].bar(n, n**2, align=\"center\", width=0.5, alpha=0.5)\n",
    "axes[2].set_title(\"bar\")\n",
    "\n",
    "axes[3].fill_between(x, x**2, x**3, color=\"green\", alpha=0.5);\n",
    "axes[3].set_title(\"fill_between\");"
   ]
  },
  {
   "cell_type": "code",
   "execution_count": null,
   "metadata": {},
   "outputs": [],
   "source": [
    "# Histogramas\n",
    "n = np.random.randn(100000)\n",
    "fig, axes = plt.subplots(1, 2, figsize=(12,4))\n",
    "\n",
    "axes[0].hist(n)\n",
    "axes[0].set_title(\"Histograma Padrão\")\n",
    "axes[0].set_xlim((min(n), max(n)))\n",
    "\n",
    "axes[1].hist(n, cumulative=True, bins=50)\n",
    "axes[1].set_title(\"Histograma Cumulativo\")\n",
    "axes[1].set_xlim((min(n), max(n)));"
   ]
  },
  {
   "cell_type": "code",
   "execution_count": null,
   "metadata": {},
   "outputs": [],
   "source": [
    "# Color Map\n",
    "alpha = 0.7\n",
    "phi_ext = 2 * np.pi * 0.5\n",
    "\n",
    "def ColorMap(phi_m, phi_p):\n",
    "    return ( + alpha - 2 * np.cos(phi_p)*cos(phi_m) - alpha * np.cos(phi_ext - 2*phi_p))\n",
    "\n",
    "phi_m = np.linspace(0, 2*np.pi, 100)\n",
    "phi_p = np.linspace(0, 2*np.pi, 100)\n",
    "X,Y = np.meshgrid(phi_p, phi_m)\n",
    "Z = ColorMap(X, Y).T\n",
    "\n",
    "fig, ax = plt.subplots()\n",
    "\n",
    "p = ax.pcolor(X/(2*np.pi), Y/(2*np.pi), Z, cmap=cm.RdBu, vmin=abs(Z).min(), vmax=abs(Z).max())\n",
    "cb = fig.colorbar(p, ax=ax)"
   ]
  },
  {
   "cell_type": "markdown",
   "metadata": {},
   "source": [
    "# Gráficos 3D"
   ]
  },
  {
   "cell_type": "code",
   "execution_count": null,
   "metadata": {},
   "outputs": [],
   "source": [
    "from mpl_toolkits.mplot3d.axes3d import Axes3D"
   ]
  },
  {
   "cell_type": "code",
   "execution_count": null,
   "metadata": {},
   "outputs": [],
   "source": [
    "fig = plt.figure(figsize=(14,6))\n",
    "\n",
    "ax = fig.add_subplot(1, 2, 1, projection='3d')\n",
    "p = ax.plot_surface(X, Y, Z, rstride=4, cstride=4, linewidth=0)\n",
    "\n",
    "ax = fig.add_subplot(1, 2, 2, projection='3d')\n",
    "p = ax.plot_surface(X, Y, Z, rstride=1, cstride=1, cmap=cm.coolwarm, linewidth=0, antialiased=False)\n",
    "cb = fig.colorbar(p, shrink=0.5)"
   ]
  },
  {
   "cell_type": "code",
   "execution_count": null,
   "metadata": {},
   "outputs": [],
   "source": [
    "# Wire frame\n",
    "fig = plt.figure(figsize=(8,6))\n",
    "\n",
    "ax = fig.add_subplot(1, 1, 1, projection = '3d')\n",
    "\n",
    "p = ax.plot_wireframe(X, Y, Z, rstride=4, cstride=4)"
   ]
  },
  {
   "cell_type": "code",
   "execution_count": null,
   "metadata": {},
   "outputs": [],
   "source": [
    "# Countour Plot com projeção\n",
    "fig = plt.figure(figsize=(8,6))\n",
    "\n",
    "ax = fig.add_subplot(1,1,1, projection='3d')\n",
    "\n",
    "ax.plot_surface(X, Y, Z, rstride=4, cstride=4, alpha=0.25)\n",
    "cset = ax.contour(X, Y, Z, zdir='z', offset=-pi, cmap=cm.coolwarm)\n",
    "cset = ax.contour(X, Y, Z, zdir='x', offset=-pi, cmap=cm.coolwarm)\n",
    "cset = ax.contour(X, Y, Z, zdir='y', offset=3*pi, cmap=cm.coolwarm)\n",
    "\n",
    "ax.set_xlim3d(-pi, 2*pi);\n",
    "ax.set_ylim3d(0, 3*pi);\n",
    "ax.set_zlim3d(-pi, 2*pi);"
   ]
  },
  {
   "cell_type": "markdown",
   "metadata": {},
   "source": [
    "Para aprender a criar visualizações de dados eficientes e profissionais, acesse:\n",
    "    \n",
    "https://www.datascienceacademy.com.br/pages/curso-visualizacao-de-dados"
   ]
  },
  {
   "cell_type": "markdown",
   "metadata": {},
   "source": [
    "# Fim"
   ]
  },
  {
   "cell_type": "markdown",
   "metadata": {},
   "source": [
    "### Obrigado - Data Science Academy - <a href=\"http://facebook.com/dsacademybr\">facebook.com/dsacademybr</a>"
   ]
  }
 ],
 "metadata": {
  "kernelspec": {
   "display_name": "Python 3",
   "language": "python",
   "name": "python3"
  },
  "language_info": {
   "codemirror_mode": {
    "name": "ipython",
    "version": 3
   },
   "file_extension": ".py",
   "mimetype": "text/x-python",
   "name": "python",
   "nbconvert_exporter": "python",
   "pygments_lexer": "ipython3",
   "version": "3.7.4"
  }
 },
 "nbformat": 4,
 "nbformat_minor": 1
}
