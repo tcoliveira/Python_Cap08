{
 "cells": [
  {
   "cell_type": "markdown",
   "metadata": {},
   "source": [
    "# <font color='blue'>Data Science Academy - Python Fundamentos - Capítulo 8</font>\n",
    "\n",
    "## Download: http://github.com/dsacademybr"
   ]
  },
  {
   "cell_type": "markdown",
   "metadata": {},
   "source": [
    "# Seaborn"
   ]
  },
  {
   "cell_type": "markdown",
   "metadata": {},
   "source": [
    "### Instalar o Seaborn: \n",
    "Caso o Seaborn não esteja instalado, abra o prompt de comando ou terminal e digite: pip install seaborn"
   ]
  },
  {
   "cell_type": "code",
   "execution_count": 1,
   "metadata": {},
   "outputs": [],
   "source": [
    "import numpy as np\n",
    "import pandas as pd\n",
    "import random\n",
    "import warnings\n",
    "warnings.filterwarnings(\"ignore\")\n",
    "import matplotlib.pyplot as plt\n",
    "%matplotlib inline"
   ]
  },
  {
   "cell_type": "code",
   "execution_count": 2,
   "metadata": {},
   "outputs": [
    {
     "ename": "ModuleNotFoundError",
     "evalue": "No module named 'seaborn'",
     "output_type": "error",
     "traceback": [
      "\u001b[1;31m---------------------------------------------------------------------------\u001b[0m",
      "\u001b[1;31mModuleNotFoundError\u001b[0m                       Traceback (most recent call last)",
      "\u001b[1;32m<ipython-input-2-e7b3bc7523d6>\u001b[0m in \u001b[0;36m<module>\u001b[1;34m\u001b[0m\n\u001b[1;32m----> 1\u001b[1;33m \u001b[1;32mimport\u001b[0m \u001b[0mseaborn\u001b[0m \u001b[1;32mas\u001b[0m \u001b[0msea\u001b[0m\u001b[1;33m\u001b[0m\u001b[1;33m\u001b[0m\u001b[0m\n\u001b[0m",
      "\u001b[1;31mModuleNotFoundError\u001b[0m: No module named 'seaborn'"
     ]
    }
   ],
   "source": [
    "import seaborn as sea"
   ]
  },
  {
   "cell_type": "code",
   "execution_count": null,
   "metadata": {},
   "outputs": [],
   "source": [
    "# Carregando um dos datasets que vem com o Seaborn\n",
    "dados = sea.load_dataset(\"tips\")"
   ]
  },
  {
   "cell_type": "code",
   "execution_count": null,
   "metadata": {},
   "outputs": [],
   "source": [
    "dados.head()"
   ]
  },
  {
   "cell_type": "markdown",
   "metadata": {},
   "source": [
    "### Regressão linear é uma equação para se estimar a condicional (valor esperado) de uma variável y, dados os valores de algumas outras variáveis x."
   ]
  },
  {
   "cell_type": "code",
   "execution_count": null,
   "metadata": {},
   "outputs": [],
   "source": [
    "# O método joinplot cria plot de 2 variáveis com gráficos bivariados e univariados\n",
    "sea.jointplot(\"total_bill\", \"tip\", dados, kind = 'reg');"
   ]
  },
  {
   "cell_type": "code",
   "execution_count": null,
   "metadata": {},
   "outputs": [],
   "source": [
    "# O método lmplot() cria plot com dados e modelos de regressão.\n",
    "sea.lmplot(\"total_bill\", \"tip\", dados, col = \"smoker\");"
   ]
  },
  {
   "cell_type": "code",
   "execution_count": null,
   "metadata": {},
   "outputs": [],
   "source": [
    "# Construindo um dataframe com Pandas\n",
    "df = pd.DataFrame()"
   ]
  },
  {
   "cell_type": "code",
   "execution_count": null,
   "metadata": {},
   "outputs": [],
   "source": [
    "# Alimentando o Dataframe com valores aleatórios\n",
    "df['a'] = random.sample(range(1, 100), 25)\n",
    "df['b'] = random.sample(range(1, 100), 25)"
   ]
  },
  {
   "cell_type": "code",
   "execution_count": null,
   "metadata": {},
   "outputs": [],
   "source": [
    "df.head()"
   ]
  },
  {
   "cell_type": "code",
   "execution_count": null,
   "metadata": {},
   "outputs": [],
   "source": [
    "# Scatter Plot\n",
    "sea.lmplot('a', 'b', data = df, fit_reg = True);"
   ]
  },
  {
   "cell_type": "code",
   "execution_count": null,
   "metadata": {},
   "outputs": [],
   "source": [
    "# Density Plot\n",
    "sea.kdeplot(df.b);"
   ]
  },
  {
   "cell_type": "code",
   "execution_count": null,
   "metadata": {},
   "outputs": [],
   "source": [
    "sea.kdeplot(df.b, df.a);"
   ]
  },
  {
   "cell_type": "code",
   "execution_count": null,
   "metadata": {},
   "outputs": [],
   "source": [
    "sea.distplot(df.a);"
   ]
  },
  {
   "cell_type": "code",
   "execution_count": null,
   "metadata": {},
   "outputs": [],
   "source": [
    "# Histograma\n",
    "plt.hist(df.a, alpha = .3)\n",
    "sea.rugplot(df.a);"
   ]
  },
  {
   "cell_type": "code",
   "execution_count": null,
   "metadata": {},
   "outputs": [],
   "source": [
    "# Box Plot\n",
    "sea.boxplot([df.b, df.a]);"
   ]
  },
  {
   "cell_type": "code",
   "execution_count": null,
   "metadata": {},
   "outputs": [],
   "source": [
    "# Violin Plot\n",
    "sea.violinplot([df.a, df.b]);"
   ]
  },
  {
   "cell_type": "code",
   "execution_count": null,
   "metadata": {},
   "outputs": [],
   "source": [
    "# Heatmap\n",
    "sea.heatmap([df.b, df.a], annot = True, fmt = \"d\");"
   ]
  },
  {
   "cell_type": "code",
   "execution_count": null,
   "metadata": {},
   "outputs": [],
   "source": [
    "# Clustermap\n",
    "sea.clustermap(df);"
   ]
  },
  {
   "cell_type": "code",
   "execution_count": null,
   "metadata": {},
   "outputs": [],
   "source": [
    "import numpy as np\n",
    "import pandas as pd\n",
    "import matplotlib.pyplot as plt\n",
    "import seaborn as sea\n",
    "%matplotlib inline"
   ]
  },
  {
   "cell_type": "markdown",
   "metadata": {},
   "source": [
    "### Temas"
   ]
  },
  {
   "cell_type": "code",
   "execution_count": null,
   "metadata": {},
   "outputs": [],
   "source": [
    "# Configurações globais para controlar estilo, tamanho de fonte, cores, etc.\n",
    "sea.set(context=\"notebook\", style=\"darkgrid\", palette=\"dark\")"
   ]
  },
  {
   "cell_type": "code",
   "execution_count": null,
   "metadata": {},
   "outputs": [],
   "source": [
    "# Seaborn possui opções de cores variadas\n",
    "sea.palplot(sea.color_palette())\n",
    "sea.palplot(sea.color_palette(\"husl\", 8))\n",
    "sea.palplot(sea.color_palette(\"hls\", 8))"
   ]
  },
  {
   "cell_type": "code",
   "execution_count": null,
   "metadata": {},
   "outputs": [],
   "source": [
    "sea.palplot(sea.color_palette(\"coolwarm\", 7))"
   ]
  },
  {
   "cell_type": "code",
   "execution_count": null,
   "metadata": {},
   "outputs": [],
   "source": [
    "sea.palplot(sea.cubehelix_palette(8))"
   ]
  },
  {
   "cell_type": "code",
   "execution_count": null,
   "metadata": {},
   "outputs": [],
   "source": [
    "# O método tsplot cria plots a partir de séries temporais\n",
    "gammas = sea.load_dataset(\"gammas\")\n",
    "sea.tsplot(gammas, \"timepoint\", \"subject\", \"ROI\", \"BOLD signal\", color = \"muted\");"
   ]
  },
  {
   "cell_type": "markdown",
   "metadata": {},
   "source": [
    "### Outros Plots"
   ]
  },
  {
   "cell_type": "code",
   "execution_count": null,
   "metadata": {},
   "outputs": [],
   "source": [
    "# Histogramas com subsets dos dados\n",
    "sea.set(style = \"darkgrid\")\n",
    "\n",
    "dados = sea.load_dataset(\"tips\")\n",
    "g = sea.FacetGrid(dados, row = \"sex\", col = \"time\", margin_titles = True)\n",
    "bins = np.linspace(0, 60, 13)\n",
    "g.map(plt.hist, \"total_bill\", color = \"steelblue\", bins = bins, lw = 0);"
   ]
  },
  {
   "cell_type": "code",
   "execution_count": null,
   "metadata": {},
   "outputs": [],
   "source": [
    "# Diversos plots simultâneos\n",
    "sea.set(style = \"white\", palette = \"muted\")\n",
    "f, axes = plt.subplots(2, 2, figsize = (7, 7), sharex = True)\n",
    "sea.despine(left = True)\n",
    "\n",
    "rs = np.random.RandomState(10)\n",
    "\n",
    "b, g, r, p = sea.color_palette(\"muted\", 4)\n",
    "\n",
    "d = rs.normal(size = 100)\n",
    "\n",
    "sea.distplot(d, kde = False, color = b, ax = axes[0, 0])\n",
    "sea.distplot(d, hist = False, rug = True, color = r, ax = axes[0, 1])\n",
    "sea.distplot(d, hist = False, color = g, kde_kws = {\"shade\": True}, ax = axes[1, 0])\n",
    "sea.distplot(d, color = p, ax = axes[1, 1])\n",
    "\n",
    "plt.setp(axes, yticks = [])\n",
    "plt.tight_layout()"
   ]
  },
  {
   "cell_type": "code",
   "execution_count": null,
   "metadata": {},
   "outputs": [],
   "source": [
    "# Plot com distribuições marginais\n",
    "from scipy.stats import kendalltau\n",
    "sea.set(style=\"ticks\")\n",
    "\n",
    "rs = np.random.RandomState(11)\n",
    "x = rs.gamma(2, size = 1000)\n",
    "y = -.5 * x + rs.normal(size = 1000)\n",
    "sea.jointplot(x, y, kind = \"hex\", stat_func = kendalltau, color = \"#4CB391\");"
   ]
  },
  {
   "cell_type": "code",
   "execution_count": null,
   "metadata": {},
   "outputs": [],
   "source": [
    "# Regressão Logística\n",
    "sea.set(style = \"darkgrid\")\n",
    "df = sea.load_dataset(\"titanic\")\n",
    "\n",
    "pal = dict(male = \"#6495ED\", female = \"#F08080\")\n",
    "g = sea.lmplot(\"age\", \"survived\", col = \"sex\", hue = \"sex\", data = df, palette = pal, \n",
    "               y_jitter = .02, logistic = True)\n",
    "g.set(xlim=(0, 80), ylim = (-.05, 1.05));"
   ]
  },
  {
   "cell_type": "code",
   "execution_count": null,
   "metadata": {},
   "outputs": [],
   "source": [
    "# Regressão Linear com Distribuições Marginais\n",
    "sea.set(style = \"darkgrid\")\n",
    "tips = sea.load_dataset(\"tips\")\n",
    "color = sea.color_palette()[2]\n",
    "g = sea.jointplot(\"total_bill\", \"tip\", data = tips, kind = \"reg\", xlim = (0, 60), \n",
    "                  ylim = (0, 12), color = color, size = 7);"
   ]
  },
  {
   "cell_type": "code",
   "execution_count": null,
   "metadata": {},
   "outputs": [],
   "source": [
    "# Pair Plots\n",
    "sea.set(style = \"darkgrid\")\n",
    "df = sea.load_dataset(\"iris\")\n",
    "sea.pairplot(df, hue = \"species\", size = 2.5);"
   ]
  },
  {
   "cell_type": "markdown",
   "metadata": {},
   "source": [
    "Conheça a Formação Cientista de Dados, um programa completo, 100% online e 100% em português, com 340 horas, mais de 1.200 aulas em vídeos e 26 projetos, que vão ajudá-lo a se tornar um dos profissionais mais cobiçados do mercado de análise de dados. Clique no link abaixo, faça sua inscrição, comece hoje mesmo e aumente sua empregabilidade:\n",
    "\n",
    "https://www.datascienceacademy.com.br/pages/formacao-cientista-de-dados"
   ]
  },
  {
   "cell_type": "markdown",
   "metadata": {},
   "source": [
    "# Fim"
   ]
  },
  {
   "cell_type": "markdown",
   "metadata": {},
   "source": [
    "### Obrigado - Data Science Academy - <a href=\"http://facebook.com/dsacademybr\">facebook.com/dsacademybr</a>"
   ]
  }
 ],
 "metadata": {
  "kernelspec": {
   "display_name": "Python 3",
   "language": "python",
   "name": "python3"
  },
  "language_info": {
   "codemirror_mode": {
    "name": "ipython",
    "version": 3
   },
   "file_extension": ".py",
   "mimetype": "text/x-python",
   "name": "python",
   "nbconvert_exporter": "python",
   "pygments_lexer": "ipython3",
   "version": "3.7.4"
  }
 },
 "nbformat": 4,
 "nbformat_minor": 1
}
